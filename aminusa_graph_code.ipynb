{
 "cells": [
  {
   "cell_type": "code",
   "execution_count": 2,
   "metadata": {
    "colab": {
     "base_uri": "https://localhost:8080/"
    },
    "id": "jNjcUYOAK1Bb",
    "outputId": "27a64529-2743-47e8-88b6-f07cc695ff6f"
   },
   "outputs": [
    {
     "name": "stdout",
     "output_type": "stream",
     "text": [
      "47720.51662773953\n",
      "0.4993879803652183\n"
     ]
    }
   ],
   "source": [
    "import scipy.special\n",
    "n = 47779 \n",
    "m=303 #Feel free to change these numbers. Make sure than n is prime, though.\n",
    "sumthing = 0\n",
    "for k in range(1,m):\n",
    "    sumthing+=scipy.special.comb(n+k-m-1,m-k-1,exact=True)*scipy.special.comb(n-k-1,k-1,exact=True)/(scipy.special.comb(2*n,m,exact=True)*k*(m-k))\n",
    "expaminusa = 2*n-n*(scipy.special.comb(n,m,exact=True))/(scipy.special.comb(2*n,m,exact=True))*(2**m) - (n**2)*(n-1)*sumthing - (n-1)*2*n*scipy.special.comb(n-m-1,m-1,exact=True)/(m*scipy.special.comb(2*n,m,exact=True))\n",
    "print(expaminusa)\n",
    "print(expaminusa/(2*n)) #Should be very close to 0.5 if m = int(1.3875*sqrt(n))"
   ]
  },
  {
   "cell_type": "code",
   "execution_count": 3,
   "metadata": {
    "id": "-1RDhu8qV1Ds"
   },
   "outputs": [
    {
     "data": {
      "image/png": "[encoded data removed]",
      "text/plain": [
       "<Figure size 432x288 with 1 Axes>"
      ]
     },
     "metadata": {
      "needs_background": "light"
     },
     "output_type": "display_data"
    }
   ],
   "source": [
    "import matplotlib.pyplot as plt #Let's plot the expectation value of |A-A| vs. m.\n",
    "n=10007 #Feel free to change this, but it should be prime.\n",
    "mvalues = [i for i in range(2,500)] #When m > 5*sqrt(n), the expectation value of |A-A| is essentially 2n.\n",
    "expaminusavalues = []\n",
    "for m in mvalues:\n",
    "    sumthing = 0\n",
    "    for k in range(1,m):\n",
    "        sumthing+=scipy.special.comb(n+k-m-1,m-k-1,exact=True)*scipy.special.comb(n-k-1,k-1,exact=True)/(scipy.special.comb(2*n,m,exact=True)*k*(m-k))\n",
    "    expaminusa = 2*n-n*(scipy.special.comb(n,m,exact=True))/(scipy.special.comb(2*n,m,exact=True))*(2**m) - (n**2)*(n-1)*sumthing - (n-1)*2*n*scipy.special.comb(n-m-1,m-1,exact=True)/(m*scipy.special.comb(2*n,m,exact=True))\n",
    "    expaminusavalues.append(expaminusa)\n",
    "plt.plot(mvalues, expaminusavalues)\n",
    "plt.xlabel('m')\n",
    "plt.ylabel('E(|A-A|)')\n",
    "plt.show()"
   ]
  },
  {
   "cell_type": "code",
   "execution_count": null,
   "metadata": {},
   "outputs": [],
   "source": []
  }
 ],
 "metadata": {
  "colab": {
   "collapsed_sections": [],
   "name": "aminusa.ipynb",
   "provenance": []
  },
  "kernelspec": {
   "display_name": "Python 3",
   "language": "python",
   "name": "python3"
  },
  "language_info": {
   "codemirror_mode": {
    "name": "ipython",
    "version": 3
   },
   "file_extension": ".py",
   "mimetype": "text/x-python",
   "name": "python",
   "nbconvert_exporter": "python",
   "pygments_lexer": "ipython3",
   "version": "3.7.10"
  }
 },
 "nbformat": 4,
 "nbformat_minor": 1
}
